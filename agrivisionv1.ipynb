{
 "cells": [
  {
   "cell_type": "code",
   "execution_count": 1,
   "metadata": {},
   "outputs": [
    {
     "name": "stdout",
     "output_type": "stream",
     "text": [
      "Extracted 118936.zip to data/jpegs/THLAR/118936\n",
      "Extracted 118922.zip to data/jpegs/THLAR/118922\n",
      "Extracted 118923.zip to data/jpegs/THLAR/118923\n",
      "Extracted 118937.zip to data/jpegs/THLAR/118937\n",
      "Extracted 118909.zip to data/jpegs/THLAR/118909\n",
      "Extracted 118934.zip to data/jpegs/THLAR/118934\n",
      "Extracted 118920.zip to data/jpegs/THLAR/118920\n",
      "Extracted 118924.zip to data/jpegs/THLAR/118924\n",
      "Extracted 118919.zip to data/jpegs/THLAR/118919\n",
      "Extracted 118931.zip to data/jpegs/THLAR/118931\n",
      "Extracted 118925.zip to data/jpegs/THLAR/118925\n",
      "Extracted 118927.zip to data/jpegs/THLAR/118927\n",
      "Extracted 118926.zip to data/jpegs/THLAR/118926\n",
      "Extracted 118932.zip to data/jpegs/THLAR/118932\n",
      "Extracted 118945.zip to data/jpegs/THLAR/118945\n",
      "Extracted 118801.zip to data/jpegs/THLAR/118801\n",
      "Extracted 118803.zip to data/jpegs/THLAR/118803\n",
      "Extracted 118802.zip to data/jpegs/THLAR/118802\n",
      "Extracted 118804.zip to data/jpegs/THLAR/118804\n",
      "Extracted 118917.zip to data/jpegs/THLAR/118917\n",
      "Extracted 118903.zip to data/jpegs/THLAR/118903\n",
      "Extracted 118902.zip to data/jpegs/THLAR/118902\n",
      "Extracted 118916.zip to data/jpegs/THLAR/118916\n",
      "Extracted 118928.zip to data/jpegs/THLAR/118928\n",
      "Extracted 118914.zip to data/jpegs/THLAR/118914\n",
      "Extracted 118915.zip to data/jpegs/THLAR/118915\n",
      "Extracted 118901.zip to data/jpegs/THLAR/118901\n",
      "Extracted 118929.zip to data/jpegs/THLAR/118929\n",
      "Extracted 118905.zip to data/jpegs/THLAR/118905\n",
      "Extracted 118911.zip to data/jpegs/THLAR/118911\n",
      "Extracted 118939.zip to data/jpegs/THLAR/118939\n",
      "Extracted 118938.zip to data/jpegs/THLAR/118938\n",
      "Extracted 118910.zip to data/jpegs/THLAR/118910\n",
      "Extracted 118904.zip to data/jpegs/THLAR/118904\n",
      "Extracted 118912.zip to data/jpegs/THLAR/118912\n",
      "Extracted 118906.zip to data/jpegs/THLAR/118906\n",
      "Extracted 118907.zip to data/jpegs/THLAR/118907\n",
      "Extracted 118913.zip to data/jpegs/THLAR/118913\n"
     ]
    }
   ],
   "source": [
    "import zipfile\n",
    "from pathlib import Path\n",
    "\n",
    "zip_dir = Path('data/jpegs/THLAR')\n",
    "\n",
    "#unpacking the zip files\n",
    "for zip_path in zip_dir.glob('*.zip'):\n",
    "    with zipfile.ZipFile(zip_path, 'r') as zip_ref:\n",
    "        extract_path = zip_path.with_suffix('')  # Remove '.zip' suffix for extraction folder\n",
    "        extract_path.mkdir(exist_ok=True)       # Create directory if it doesn't exist\n",
    "        zip_ref.extractall(extract_path)\n",
    "        print(f'Extracted {zip_path.name} to {extract_path}')"
   ]
  },
  {
   "cell_type": "code",
   "execution_count": 2,
   "metadata": {},
   "outputs": [
    {
     "name": "stdout",
     "output_type": "stream",
     "text": [
      "Deleted: data/jpegs/THLAR/118936.zip\n",
      "Deleted: data/jpegs/THLAR/118922.zip\n",
      "Deleted: data/jpegs/THLAR/118923.zip\n",
      "Deleted: data/jpegs/THLAR/118937.zip\n",
      "Deleted: data/jpegs/THLAR/118909.zip\n",
      "Deleted: data/jpegs/THLAR/118934.zip\n",
      "Deleted: data/jpegs/THLAR/118920.zip\n",
      "Deleted: data/jpegs/THLAR/118924.zip\n",
      "Deleted: data/jpegs/THLAR/118919.zip\n",
      "Deleted: data/jpegs/THLAR/118931.zip\n",
      "Deleted: data/jpegs/THLAR/118925.zip\n",
      "Deleted: data/jpegs/THLAR/118927.zip\n",
      "Deleted: data/jpegs/THLAR/118926.zip\n",
      "Deleted: data/jpegs/THLAR/118932.zip\n",
      "Deleted: data/jpegs/THLAR/118945.zip\n",
      "Deleted: data/jpegs/THLAR/118801.zip\n",
      "Deleted: data/jpegs/THLAR/118803.zip\n",
      "Deleted: data/jpegs/THLAR/118802.zip\n",
      "Deleted: data/jpegs/THLAR/118804.zip\n",
      "Deleted: data/jpegs/THLAR/118917.zip\n",
      "Deleted: data/jpegs/THLAR/118903.zip\n",
      "Deleted: data/jpegs/THLAR/118902.zip\n",
      "Deleted: data/jpegs/THLAR/118916.zip\n",
      "Deleted: data/jpegs/THLAR/118928.zip\n",
      "Deleted: data/jpegs/THLAR/118914.zip\n",
      "Deleted: data/jpegs/THLAR/118915.zip\n",
      "Deleted: data/jpegs/THLAR/118901.zip\n",
      "Deleted: data/jpegs/THLAR/118929.zip\n",
      "Deleted: data/jpegs/THLAR/118905.zip\n",
      "Deleted: data/jpegs/THLAR/118911.zip\n",
      "Deleted: data/jpegs/THLAR/118939.zip\n",
      "Deleted: data/jpegs/THLAR/118938.zip\n",
      "Deleted: data/jpegs/THLAR/118910.zip\n",
      "Deleted: data/jpegs/THLAR/118904.zip\n",
      "Deleted: data/jpegs/THLAR/118912.zip\n",
      "Deleted: data/jpegs/THLAR/118906.zip\n",
      "Deleted: data/jpegs/THLAR/118907.zip\n",
      "Deleted: data/jpegs/THLAR/118913.zip\n"
     ]
    }
   ],
   "source": [
    "#deleting the zip files\n",
    "\n",
    "for zip_path in zip_dir.glob('*.zip'):\n",
    "    try:\n",
    "        os.remove(zip_path)  # Delete the ZIP file\n",
    "        print(f\"Deleted: {zip_path}\")\n",
    "    except Exception as e:\n",
    "        print(f\"Error deleting {zip_path}: {e}\")"
   ]
  },
  {
   "cell_type": "code",
   "execution_count": null,
   "metadata": {},
   "outputs": [],
   "source": []
  }
 ],
 "metadata": {
  "kernelspec": {
   "display_name": "base",
   "language": "python",
   "name": "python3"
  },
  "language_info": {
   "codemirror_mode": {
    "name": "ipython",
    "version": 3
   },
   "file_extension": ".py",
   "mimetype": "text/x-python",
   "name": "python",
   "nbconvert_exporter": "python",
   "pygments_lexer": "ipython3",
   "version": "3.12.8"
  }
 },
 "nbformat": 4,
 "nbformat_minor": 2
}
